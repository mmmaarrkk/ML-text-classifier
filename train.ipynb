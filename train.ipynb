{
 "cells": [
  {
   "cell_type": "code",
   "execution_count": 10,
   "metadata": {},
   "outputs": [],
   "source": [
    "import numpy as np\n",
    "import pandas as pd\n",
    "\n",
    "from sklearn.model_selection import KFold, RandomizedSearchCV\n",
    "from sklearn.metrics import balanced_accuracy_score\n",
    "# from sklearn.preprocessing import LabelEncoder\n",
    "\n",
    "import catboost as cb\n",
    "from catboost import CatBoostClassifier, Pool\n",
    "\n",
    "import xgboost as xgb\n",
    "from xgboost import XGBClassifier, DMatrix\n",
    "\n",
    "import matplotlib.pyplot as plt\n",
    "import seaborn as sns\n",
    "import phik\n",
    "from phik.report import plot_correlation_matrix\n",
    "from phik import report\n",
    "\n",
    "import warnings\n",
    "warnings.filterwarnings('ignore')"
   ]
  },
  {
   "cell_type": "code",
   "execution_count": 11,
   "metadata": {},
   "outputs": [],
   "source": [
    "train = pd.read_csv('https://www.dropbox.com/scl/fi/9hb4r3uce0mqz8fkpja17/text_classification_train.csv?rlkey=w42y98wa401gelzou08pp582k&dl=1')\n",
    "\n",
    "test = pd.read_csv('https://www.dropbox.com/scl/fi/7z7rsy14amjeugf166i1t/text_classification_test.csv?rlkey=z53jgwhijd6bpvk7n8n2munwb&dl=1')"
   ]
  },
  {
   "cell_type": "markdown",
   "metadata": {},
   "source": [
    "# Baseline model"
   ]
  },
  {
   "cell_type": "code",
   "execution_count": 13,
   "metadata": {},
   "outputs": [
    {
     "data": {
      "text/plain": [
       "((7500, 2618), (2500, 2617))"
      ]
     },
     "execution_count": 13,
     "metadata": {},
     "output_type": "execute_result"
    }
   ],
   "source": [
    "train.shape, test.shape"
   ]
  },
  {
   "cell_type": "code",
   "execution_count": 15,
   "metadata": {},
   "outputs": [
    {
     "data": {
      "text/html": [
       "<div>\n",
       "<style scoped>\n",
       "    .dataframe tbody tr th:only-of-type {\n",
       "        vertical-align: middle;\n",
       "    }\n",
       "\n",
       "    .dataframe tbody tr th {\n",
       "        vertical-align: top;\n",
       "    }\n",
       "\n",
       "    .dataframe thead th {\n",
       "        text-align: right;\n",
       "    }\n",
       "</style>\n",
       "<table border=\"1\" class=\"dataframe\">\n",
       "  <thead>\n",
       "    <tr style=\"text-align: right;\">\n",
       "      <th></th>\n",
       "      <th>category</th>\n",
       "      <th>text</th>\n",
       "      <th>ruBert-base_text_feature_0</th>\n",
       "      <th>ruBert-base_text_feature_1</th>\n",
       "      <th>ruBert-base_text_feature_2</th>\n",
       "      <th>ruBert-base_text_feature_3</th>\n",
       "      <th>ruBert-base_text_feature_4</th>\n",
       "      <th>ruBert-base_text_feature_5</th>\n",
       "      <th>ruBert-base_text_feature_6</th>\n",
       "      <th>ruBert-base_text_feature_7</th>\n",
       "      <th>...</th>\n",
       "      <th>labse_text_feature_758</th>\n",
       "      <th>labse_text_feature_759</th>\n",
       "      <th>labse_text_feature_760</th>\n",
       "      <th>labse_text_feature_761</th>\n",
       "      <th>labse_text_feature_762</th>\n",
       "      <th>labse_text_feature_763</th>\n",
       "      <th>labse_text_feature_764</th>\n",
       "      <th>labse_text_feature_765</th>\n",
       "      <th>labse_text_feature_766</th>\n",
       "      <th>labse_text_feature_767</th>\n",
       "    </tr>\n",
       "  </thead>\n",
       "  <tbody>\n",
       "    <tr>\n",
       "      <th>0</th>\n",
       "      <td>extreme</td>\n",
       "      <td>Ледник Пасторури это цирковой ледник расположе...</td>\n",
       "      <td>0.272156</td>\n",
       "      <td>0.155383</td>\n",
       "      <td>0.060285</td>\n",
       "      <td>0.363159</td>\n",
       "      <td>-0.140391</td>\n",
       "      <td>0.507753</td>\n",
       "      <td>-0.226326</td>\n",
       "      <td>0.431878</td>\n",
       "      <td>...</td>\n",
       "      <td>-0.045795</td>\n",
       "      <td>-0.027475</td>\n",
       "      <td>0.030528</td>\n",
       "      <td>-0.052218</td>\n",
       "      <td>0.042459</td>\n",
       "      <td>-0.012714</td>\n",
       "      <td>-0.055370</td>\n",
       "      <td>-0.012433</td>\n",
       "      <td>-0.016283</td>\n",
       "      <td>-0.006994</td>\n",
       "    </tr>\n",
       "    <tr>\n",
       "      <th>1</th>\n",
       "      <td>martial_arts</td>\n",
       "      <td>Главные участники предстоящего Betokenoid 274 ...</td>\n",
       "      <td>0.439223</td>\n",
       "      <td>0.343683</td>\n",
       "      <td>0.093642</td>\n",
       "      <td>0.245294</td>\n",
       "      <td>0.089770</td>\n",
       "      <td>0.424717</td>\n",
       "      <td>-0.071487</td>\n",
       "      <td>0.185970</td>\n",
       "      <td>...</td>\n",
       "      <td>-0.022664</td>\n",
       "      <td>0.042258</td>\n",
       "      <td>-0.027394</td>\n",
       "      <td>-0.033566</td>\n",
       "      <td>0.016021</td>\n",
       "      <td>-0.022054</td>\n",
       "      <td>-0.040366</td>\n",
       "      <td>0.007392</td>\n",
       "      <td>-0.029070</td>\n",
       "      <td>-0.011284</td>\n",
       "    </tr>\n",
       "    <tr>\n",
       "      <th>2</th>\n",
       "      <td>extreme</td>\n",
       "      <td>Ttokenoid Btokenoid – карта с которой можно не...</td>\n",
       "      <td>-0.040338</td>\n",
       "      <td>0.058095</td>\n",
       "      <td>-0.091063</td>\n",
       "      <td>0.296028</td>\n",
       "      <td>-0.137103</td>\n",
       "      <td>0.931456</td>\n",
       "      <td>-0.169060</td>\n",
       "      <td>0.131503</td>\n",
       "      <td>...</td>\n",
       "      <td>-0.009464</td>\n",
       "      <td>0.011548</td>\n",
       "      <td>-0.046034</td>\n",
       "      <td>0.024588</td>\n",
       "      <td>-0.013670</td>\n",
       "      <td>-0.047028</td>\n",
       "      <td>0.009395</td>\n",
       "      <td>-0.000488</td>\n",
       "      <td>-0.060260</td>\n",
       "      <td>0.006563</td>\n",
       "    </tr>\n",
       "    <tr>\n",
       "      <th>3</th>\n",
       "      <td>autosport</td>\n",
       "      <td>В Сильверстоуне произошли крупные обновления а...</td>\n",
       "      <td>0.444181</td>\n",
       "      <td>0.218742</td>\n",
       "      <td>0.247859</td>\n",
       "      <td>0.234885</td>\n",
       "      <td>0.006668</td>\n",
       "      <td>0.407703</td>\n",
       "      <td>-0.115768</td>\n",
       "      <td>0.433781</td>\n",
       "      <td>...</td>\n",
       "      <td>-0.045474</td>\n",
       "      <td>-0.043454</td>\n",
       "      <td>-0.000961</td>\n",
       "      <td>-0.012203</td>\n",
       "      <td>-0.047922</td>\n",
       "      <td>-0.054657</td>\n",
       "      <td>-0.053768</td>\n",
       "      <td>0.018481</td>\n",
       "      <td>-0.039148</td>\n",
       "      <td>-0.038874</td>\n",
       "    </tr>\n",
       "    <tr>\n",
       "      <th>4</th>\n",
       "      <td>extreme</td>\n",
       "      <td>На протяжении более чем 30 лет Вестсайд являет...</td>\n",
       "      <td>-0.126253</td>\n",
       "      <td>-0.115856</td>\n",
       "      <td>0.131131</td>\n",
       "      <td>0.052595</td>\n",
       "      <td>0.060591</td>\n",
       "      <td>0.420976</td>\n",
       "      <td>0.090776</td>\n",
       "      <td>0.246287</td>\n",
       "      <td>...</td>\n",
       "      <td>0.004818</td>\n",
       "      <td>-0.008138</td>\n",
       "      <td>-0.013958</td>\n",
       "      <td>-0.038482</td>\n",
       "      <td>-0.002943</td>\n",
       "      <td>-0.035970</td>\n",
       "      <td>-0.010830</td>\n",
       "      <td>-0.005132</td>\n",
       "      <td>-0.047990</td>\n",
       "      <td>-0.005869</td>\n",
       "    </tr>\n",
       "  </tbody>\n",
       "</table>\n",
       "<p>5 rows × 2618 columns</p>\n",
       "</div>"
      ],
      "text/plain": [
       "       category                                               text  \\\n",
       "0       extreme  Ледник Пасторури это цирковой ледник расположе...   \n",
       "1  martial_arts  Главные участники предстоящего Betokenoid 274 ...   \n",
       "2       extreme  Ttokenoid Btokenoid – карта с которой можно не...   \n",
       "3     autosport  В Сильверстоуне произошли крупные обновления а...   \n",
       "4       extreme  На протяжении более чем 30 лет Вестсайд являет...   \n",
       "\n",
       "   ruBert-base_text_feature_0  ruBert-base_text_feature_1  \\\n",
       "0                    0.272156                    0.155383   \n",
       "1                    0.439223                    0.343683   \n",
       "2                   -0.040338                    0.058095   \n",
       "3                    0.444181                    0.218742   \n",
       "4                   -0.126253                   -0.115856   \n",
       "\n",
       "   ruBert-base_text_feature_2  ruBert-base_text_feature_3  \\\n",
       "0                    0.060285                    0.363159   \n",
       "1                    0.093642                    0.245294   \n",
       "2                   -0.091063                    0.296028   \n",
       "3                    0.247859                    0.234885   \n",
       "4                    0.131131                    0.052595   \n",
       "\n",
       "   ruBert-base_text_feature_4  ruBert-base_text_feature_5  \\\n",
       "0                   -0.140391                    0.507753   \n",
       "1                    0.089770                    0.424717   \n",
       "2                   -0.137103                    0.931456   \n",
       "3                    0.006668                    0.407703   \n",
       "4                    0.060591                    0.420976   \n",
       "\n",
       "   ruBert-base_text_feature_6  ruBert-base_text_feature_7  ...  \\\n",
       "0                   -0.226326                    0.431878  ...   \n",
       "1                   -0.071487                    0.185970  ...   \n",
       "2                   -0.169060                    0.131503  ...   \n",
       "3                   -0.115768                    0.433781  ...   \n",
       "4                    0.090776                    0.246287  ...   \n",
       "\n",
       "   labse_text_feature_758  labse_text_feature_759  labse_text_feature_760  \\\n",
       "0               -0.045795               -0.027475                0.030528   \n",
       "1               -0.022664                0.042258               -0.027394   \n",
       "2               -0.009464                0.011548               -0.046034   \n",
       "3               -0.045474               -0.043454               -0.000961   \n",
       "4                0.004818               -0.008138               -0.013958   \n",
       "\n",
       "   labse_text_feature_761  labse_text_feature_762  labse_text_feature_763  \\\n",
       "0               -0.052218                0.042459               -0.012714   \n",
       "1               -0.033566                0.016021               -0.022054   \n",
       "2                0.024588               -0.013670               -0.047028   \n",
       "3               -0.012203               -0.047922               -0.054657   \n",
       "4               -0.038482               -0.002943               -0.035970   \n",
       "\n",
       "   labse_text_feature_764  labse_text_feature_765  labse_text_feature_766  \\\n",
       "0               -0.055370               -0.012433               -0.016283   \n",
       "1               -0.040366                0.007392               -0.029070   \n",
       "2                0.009395               -0.000488               -0.060260   \n",
       "3               -0.053768                0.018481               -0.039148   \n",
       "4               -0.010830               -0.005132               -0.047990   \n",
       "\n",
       "   labse_text_feature_767  \n",
       "0               -0.006994  \n",
       "1               -0.011284  \n",
       "2                0.006563  \n",
       "3               -0.038874  \n",
       "4               -0.005869  \n",
       "\n",
       "[5 rows x 2618 columns]"
      ]
     },
     "execution_count": 15,
     "metadata": {},
     "output_type": "execute_result"
    }
   ],
   "source": [
    "train.head()"
   ]
  },
  {
   "cell_type": "code",
   "execution_count": 31,
   "metadata": {},
   "outputs": [],
   "source": [
    "X = train.drop(['category', 'text'], axis=1)\n",
    "y = train['category'].astype('category')\n",
    "num_classes = y.nunique()\n",
    "cat_features = ['category']"
   ]
  },
  {
   "cell_type": "code",
   "execution_count": 40,
   "metadata": {},
   "outputs": [],
   "source": [
    "from sklearn.preprocessing import LabelEncoder\n",
    "\n",
    "label_encoder = LabelEncoder()\n",
    "y_encoded = label_encoder.fit_transform(y)"
   ]
  },
  {
   "cell_type": "code",
   "execution_count": 44,
   "metadata": {},
   "outputs": [],
   "source": [
    "from sklearn.model_selection import train_test_split\n",
    "\n",
    "X_train, X_test, y_train, y_test = train_test_split(\n",
    "    X, y_encoded, test_size=0.2, random_state=42)\n"
   ]
  },
  {
   "cell_type": "code",
   "execution_count": 47,
   "metadata": {},
   "outputs": [],
   "source": [
    "train_pool = cb.Pool(X_train, y_train)\n",
    "test_pool = cb.Pool(X_test, y_test)\n",
    "\n",
    "model = cb.CatBoostClassifier(\n",
    "    iterations=1000,\n",
    "    depth=6,\n",
    "    loss_function='MultiClass',\n",
    "    classes_count=num_classes,\n",
    "    verbose=100,\n",
    "    task_type=\"GPU\",\n",
    "    devices='0'\n",
    ")"
   ]
  },
  {
   "cell_type": "code",
   "execution_count": 48,
   "metadata": {},
   "outputs": [
    {
     "name": "stdout",
     "output_type": "stream",
     "text": [
      "Learning rate set to 0.126016\n",
      "0:\tlearn: 2.4743254\ttest: 2.4877300\tbest: 2.4877300 (0)\ttotal: 388ms\tremaining: 6m 27s\n",
      "100:\tlearn: 0.7364787\ttest: 1.2648581\tbest: 1.2648581 (100)\ttotal: 27.9s\tremaining: 4m 8s\n",
      "200:\tlearn: 0.4491232\ttest: 1.0993957\tbest: 1.0993957 (200)\ttotal: 52.8s\tremaining: 3m 29s\n",
      "300:\tlearn: 0.3244822\ttest: 1.0361701\tbest: 1.0361701 (300)\ttotal: 1m 15s\tremaining: 2m 55s\n",
      "400:\tlearn: 0.2499024\ttest: 0.9976979\tbest: 0.9975969 (399)\ttotal: 1m 38s\tremaining: 2m 26s\n",
      "500:\tlearn: 0.2021835\ttest: 0.9691122\tbest: 0.9691122 (500)\ttotal: 1m 59s\tremaining: 1m 59s\n",
      "600:\tlearn: 0.1646249\ttest: 0.9439510\tbest: 0.9439510 (600)\ttotal: 2m 21s\tremaining: 1m 34s\n",
      "700:\tlearn: 0.1375408\ttest: 0.9262325\tbest: 0.9262325 (700)\ttotal: 2m 43s\tremaining: 1m 9s\n",
      "800:\tlearn: 0.1152857\ttest: 0.9096509\tbest: 0.9096003 (799)\ttotal: 3m 5s\tremaining: 46.1s\n",
      "900:\tlearn: 0.0984762\ttest: 0.8976452\tbest: 0.8976452 (900)\ttotal: 3m 27s\tremaining: 22.8s\n",
      "999:\tlearn: 0.0857581\ttest: 0.8881405\tbest: 0.8881405 (999)\ttotal: 3m 48s\tremaining: 0us\n",
      "bestTest = 0.8881405436\n",
      "bestIteration = 999\n"
     ]
    },
    {
     "data": {
      "text/plain": [
       "<catboost.core.CatBoostClassifier at 0x233800dea40>"
      ]
     },
     "execution_count": 48,
     "metadata": {},
     "output_type": "execute_result"
    }
   ],
   "source": [
    "model.fit(train_pool, eval_set=test_pool, early_stopping_rounds=100)"
   ]
  },
  {
   "cell_type": "code",
   "execution_count": 49,
   "metadata": {},
   "outputs": [
    {
     "name": "stdout",
     "output_type": "stream",
     "text": [
      "Accuracy: 0.7239302608475016\n"
     ]
    }
   ],
   "source": [
    "y_pred = model.predict(X_test)\n",
    "\n",
    "# Преобразуйте числовые предсказания обратно в строковые метки\n",
    "y_pred_labels = label_encoder.inverse_transform(y_pred)\n",
    "y_test_labels = label_encoder.inverse_transform(y_test)\n",
    "\n",
    "# Оцените точность модели\n",
    "accuracy = balanced_accuracy_score(y_test_labels, y_pred_labels)\n",
    "print(f'Accuracy: {accuracy}')"
   ]
  },
  {
   "cell_type": "code",
   "execution_count": 51,
   "metadata": {},
   "outputs": [],
   "source": [
    "model.save_model('models/catboost_baseline_model.cbm')"
   ]
  },
  {
   "cell_type": "code",
   "execution_count": 68,
   "metadata": {},
   "outputs": [
    {
     "data": {
      "text/html": [
       "<div>\n",
       "<style scoped>\n",
       "    .dataframe tbody tr th:only-of-type {\n",
       "        vertical-align: middle;\n",
       "    }\n",
       "\n",
       "    .dataframe tbody tr th {\n",
       "        vertical-align: top;\n",
       "    }\n",
       "\n",
       "    .dataframe thead th {\n",
       "        text-align: right;\n",
       "    }\n",
       "</style>\n",
       "<table border=\"1\" class=\"dataframe\">\n",
       "  <thead>\n",
       "    <tr style=\"text-align: right;\">\n",
       "      <th></th>\n",
       "      <th>Feature</th>\n",
       "      <th>Importance</th>\n",
       "    </tr>\n",
       "  </thead>\n",
       "  <tbody>\n",
       "    <tr>\n",
       "      <th>641</th>\n",
       "      <td>ruBert-base_text_feature_641</td>\n",
       "      <td>1.298949</td>\n",
       "    </tr>\n",
       "    <tr>\n",
       "      <th>2036</th>\n",
       "      <td>labse_text_feature_188</td>\n",
       "      <td>1.298233</td>\n",
       "    </tr>\n",
       "    <tr>\n",
       "      <th>113</th>\n",
       "      <td>ruBert-base_text_feature_113</td>\n",
       "      <td>1.130945</td>\n",
       "    </tr>\n",
       "    <tr>\n",
       "      <th>86</th>\n",
       "      <td>ruBert-base_text_feature_86</td>\n",
       "      <td>0.997096</td>\n",
       "    </tr>\n",
       "    <tr>\n",
       "      <th>423</th>\n",
       "      <td>ruBert-base_text_feature_423</td>\n",
       "      <td>0.986294</td>\n",
       "    </tr>\n",
       "    <tr>\n",
       "      <th>...</th>\n",
       "      <td>...</td>\n",
       "      <td>...</td>\n",
       "    </tr>\n",
       "    <tr>\n",
       "      <th>1660</th>\n",
       "      <td>rubert-base-cased-conversational_text_feature_580</td>\n",
       "      <td>0.000000</td>\n",
       "    </tr>\n",
       "    <tr>\n",
       "      <th>1662</th>\n",
       "      <td>rubert-base-cased-conversational_text_feature_582</td>\n",
       "      <td>0.000000</td>\n",
       "    </tr>\n",
       "    <tr>\n",
       "      <th>1663</th>\n",
       "      <td>rubert-base-cased-conversational_text_feature_583</td>\n",
       "      <td>0.000000</td>\n",
       "    </tr>\n",
       "    <tr>\n",
       "      <th>1664</th>\n",
       "      <td>rubert-base-cased-conversational_text_feature_584</td>\n",
       "      <td>0.000000</td>\n",
       "    </tr>\n",
       "    <tr>\n",
       "      <th>1308</th>\n",
       "      <td>rubert-base-cased-conversational_text_feature_228</td>\n",
       "      <td>0.000000</td>\n",
       "    </tr>\n",
       "  </tbody>\n",
       "</table>\n",
       "<p>2616 rows × 2 columns</p>\n",
       "</div>"
      ],
      "text/plain": [
       "                                                Feature  Importance\n",
       "641                        ruBert-base_text_feature_641    1.298949\n",
       "2036                             labse_text_feature_188    1.298233\n",
       "113                        ruBert-base_text_feature_113    1.130945\n",
       "86                          ruBert-base_text_feature_86    0.997096\n",
       "423                        ruBert-base_text_feature_423    0.986294\n",
       "...                                                 ...         ...\n",
       "1660  rubert-base-cased-conversational_text_feature_580    0.000000\n",
       "1662  rubert-base-cased-conversational_text_feature_582    0.000000\n",
       "1663  rubert-base-cased-conversational_text_feature_583    0.000000\n",
       "1664  rubert-base-cased-conversational_text_feature_584    0.000000\n",
       "1308  rubert-base-cased-conversational_text_feature_228    0.000000\n",
       "\n",
       "[2616 rows x 2 columns]"
      ]
     },
     "execution_count": 68,
     "metadata": {},
     "output_type": "execute_result"
    }
   ],
   "source": [
    "feature_importances = model.get_feature_importance(data=train_pool, type=cb.EFstrType.PredictionValuesChange)\n",
    "\n",
    "feature_importances_df = pd.DataFrame({'Feature': X.columns, 'Importance': feature_importances}).sort_values(by='Importance', ascending=False)\n",
    "\n",
    "feature_importances_df"
   ]
  },
  {
   "cell_type": "markdown",
   "metadata": {},
   "source": [
    "отбросим фичи с важностью < 0.1"
   ]
  },
  {
   "cell_type": "code",
   "execution_count": 69,
   "metadata": {},
   "outputs": [],
   "source": [
    "drop_feature_importances_df = feature_importances_df[feature_importances_df['Importance'] < 0.1]"
   ]
  },
  {
   "cell_type": "code",
   "execution_count": 70,
   "metadata": {},
   "outputs": [
    {
     "data": {
      "text/plain": [
       "(2353, 2)"
      ]
     },
     "execution_count": 70,
     "metadata": {},
     "output_type": "execute_result"
    }
   ],
   "source": [
    "drop_feature_importances_df.shape"
   ]
  },
  {
   "cell_type": "code",
   "execution_count": 73,
   "metadata": {},
   "outputs": [],
   "source": [
    "X_cleaned = X.drop(drop_feature_importances_df['Feature'].to_list(), axis=1)"
   ]
  },
  {
   "cell_type": "code",
   "execution_count": null,
   "metadata": {},
   "outputs": [],
   "source": []
  },
  {
   "cell_type": "markdown",
   "metadata": {},
   "source": [
    "В дальнейшем:\n",
    "1. затюнить в Оптуне\n",
    "2. Обучить xgb (dart) и затюнить\n",
    "3. xgb (rf) и затюнить\n",
    "4. Заблендить резы"
   ]
  },
  {
   "cell_type": "markdown",
   "metadata": {},
   "source": []
  }
 ],
 "metadata": {
  "kernelspec": {
   "display_name": "base",
   "language": "python",
   "name": "python3"
  },
  "language_info": {
   "codemirror_mode": {
    "name": "ipython",
    "version": 3
   },
   "file_extension": ".py",
   "mimetype": "text/x-python",
   "name": "python",
   "nbconvert_exporter": "python",
   "pygments_lexer": "ipython3",
   "version": "3.10.9"
  }
 },
 "nbformat": 4,
 "nbformat_minor": 2
}
