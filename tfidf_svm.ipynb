{
 "cells": [
  {
   "cell_type": "code",
   "execution_count": 1,
   "metadata": {},
   "outputs": [
    {
     "name": "stderr",
     "output_type": "stream",
     "text": [
      "C:\\Users\\koles\\AppData\\Roaming\\Python\\Python310\\site-packages\\pandas\\core\\arrays\\masked.py:60: UserWarning: Pandas requires version '1.3.6' or newer of 'bottleneck' (version '1.3.5' currently installed).\n",
      "  from pandas.core import (\n"
     ]
    }
   ],
   "source": [
    "import pandas as pd\n",
    "import numpy as np"
   ]
  },
  {
   "cell_type": "code",
   "execution_count": 17,
   "metadata": {},
   "outputs": [
    {
     "data": {
      "text/html": [
       "<div>\n",
       "<style scoped>\n",
       "    .dataframe tbody tr th:only-of-type {\n",
       "        vertical-align: middle;\n",
       "    }\n",
       "\n",
       "    .dataframe tbody tr th {\n",
       "        vertical-align: top;\n",
       "    }\n",
       "\n",
       "    .dataframe thead th {\n",
       "        text-align: right;\n",
       "    }\n",
       "</style>\n",
       "<table border=\"1\" class=\"dataframe\">\n",
       "  <thead>\n",
       "    <tr style=\"text-align: right;\">\n",
       "      <th></th>\n",
       "      <th>category</th>\n",
       "      <th>text</th>\n",
       "    </tr>\n",
       "  </thead>\n",
       "  <tbody>\n",
       "    <tr>\n",
       "      <th>0</th>\n",
       "      <td>extreme</td>\n",
       "      <td>Ледник Пасторури это цирковой ледник расположе...</td>\n",
       "    </tr>\n",
       "    <tr>\n",
       "      <th>1</th>\n",
       "      <td>martial_arts</td>\n",
       "      <td>Главные участники предстоящего Betokenoid 274 ...</td>\n",
       "    </tr>\n",
       "    <tr>\n",
       "      <th>2</th>\n",
       "      <td>extreme</td>\n",
       "      <td>Ttokenoid Btokenoid – карта с которой можно не...</td>\n",
       "    </tr>\n",
       "    <tr>\n",
       "      <th>3</th>\n",
       "      <td>autosport</td>\n",
       "      <td>В Сильверстоуне произошли крупные обновления а...</td>\n",
       "    </tr>\n",
       "    <tr>\n",
       "      <th>4</th>\n",
       "      <td>extreme</td>\n",
       "      <td>На протяжении более чем 30 лет Вестсайд являет...</td>\n",
       "    </tr>\n",
       "  </tbody>\n",
       "</table>\n",
       "</div>"
      ],
      "text/plain": [
       "       category                                               text\n",
       "0       extreme  Ледник Пасторури это цирковой ледник расположе...\n",
       "1  martial_arts  Главные участники предстоящего Betokenoid 274 ...\n",
       "2       extreme  Ttokenoid Btokenoid – карта с которой можно не...\n",
       "3     autosport  В Сильверстоуне произошли крупные обновления а...\n",
       "4       extreme  На протяжении более чем 30 лет Вестсайд являет..."
      ]
     },
     "execution_count": 17,
     "metadata": {},
     "output_type": "execute_result"
    }
   ],
   "source": [
    "df_train = pd.read_csv('data/train_row.csv')\n",
    "df_train.head()"
   ]
  },
  {
   "cell_type": "code",
   "execution_count": 22,
   "metadata": {},
   "outputs": [
    {
     "data": {
      "text/plain": [
       "category\n",
       "autosport       608\n",
       "athletics       603\n",
       "boardgames      598\n",
       "esport          591\n",
       "tennis          590\n",
       "martial_arts    584\n",
       "extreme         572\n",
       "basketball      570\n",
       "hockey          563\n",
       "motosport       562\n",
       "volleyball      560\n",
       "football        555\n",
       "winter_sport    544\n",
       "Name: count, dtype: int64"
      ]
     },
     "execution_count": 22,
     "metadata": {},
     "output_type": "execute_result"
    }
   ],
   "source": [
    "df_train['category'].value_counts()"
   ]
  },
  {
   "cell_type": "code",
   "execution_count": 24,
   "metadata": {},
   "outputs": [
    {
     "name": "stdout",
     "output_type": "stream",
     "text": [
      "Collecting pymorphy2\n",
      "  Downloading pymorphy2-0.9.1-py3-none-any.whl (55 kB)\n",
      "     -------------------------------------- 55.5/55.5 kB 411.3 kB/s eta 0:00:00\n",
      "Collecting dawg-python>=0.7.1\n",
      "  Downloading DAWG_Python-0.7.2-py2.py3-none-any.whl (11 kB)\n",
      "Collecting docopt>=0.6\n",
      "  Downloading docopt-0.6.2.tar.gz (25 kB)\n",
      "  Preparing metadata (setup.py): started\n",
      "  Preparing metadata (setup.py): finished with status 'done'\n",
      "Collecting pymorphy2-dicts-ru<3.0,>=2.4\n",
      "  Downloading pymorphy2_dicts_ru-2.4.417127.4579844-py2.py3-none-any.whl (8.2 MB)\n",
      "     ---------------------------------------- 8.2/8.2 MB 4.5 MB/s eta 0:00:00\n",
      "Building wheels for collected packages: docopt\n",
      "  Building wheel for docopt (setup.py): started\n",
      "  Building wheel for docopt (setup.py): finished with status 'done'\n",
      "  Created wheel for docopt: filename=docopt-0.6.2-py2.py3-none-any.whl size=13775 sha256=921c9c3715bcfac8aec1e172dc4e9e6c4e5726679d8a2be86b46d879557dc45c\n",
      "  Stored in directory: c:\\users\\koles\\appdata\\local\\pip\\cache\\wheels\\7c\\d7\\8d\\2156234738063e3d4a39ba77dc677046100e62766b53807189\n",
      "Successfully built docopt\n",
      "Installing collected packages: pymorphy2-dicts-ru, docopt, dawg-python, pymorphy2\n",
      "Successfully installed dawg-python-0.7.2 docopt-0.6.2 pymorphy2-0.9.1 pymorphy2-dicts-ru-2.4.417127.4579844\n"
     ]
    }
   ],
   "source": [
    "!pip install pymorphy2"
   ]
  },
  {
   "cell_type": "code",
   "execution_count": 39,
   "metadata": {},
   "outputs": [],
   "source": [
    "import pymorphy2\n",
    "\n",
    "morph = pymorphy2.MorphAnalyzer()\n",
    "\n",
    "def lemmatize_text(text):\n",
    "    words = text.split()\n",
    "    lemmatized_words = [morph.parse(word)[0].normal_form for word in words]\n",
    "    return ' '.join(lemmatized_words)"
   ]
  },
  {
   "cell_type": "code",
   "execution_count": 29,
   "metadata": {},
   "outputs": [],
   "source": [
    "from sklearn.model_selection import train_test_split\n",
    "from sklearn import svm\n",
    "from sklearn.feature_extraction.text import TfidfVectorizer\n",
    "from sklearn.metrics import balanced_accuracy_score\n",
    "import optuna\n",
    "from sklearn.preprocessing import LabelEncoder"
   ]
  },
  {
   "cell_type": "code",
   "execution_count": 43,
   "metadata": {},
   "outputs": [],
   "source": [
    "df_train['normalized_text'] = df_train['text'].apply(lemmatize_text)"
   ]
  },
  {
   "cell_type": "code",
   "execution_count": 67,
   "metadata": {},
   "outputs": [],
   "source": [
    "X = df_train['normalized_text']\n",
    "y = df_train['category']\n",
    "label_enc = LabelEncoder()\n",
    "y_encoded = label_enc.fit_transform(y)"
   ]
  },
  {
   "cell_type": "code",
   "execution_count": 68,
   "metadata": {},
   "outputs": [],
   "source": [
    "X_train, X_test, y_train, y_test = train_test_split(X, y_encoded, test_size=0.2, random_state=42)"
   ]
  },
  {
   "cell_type": "code",
   "execution_count": 69,
   "metadata": {},
   "outputs": [],
   "source": [
    "X_train, X_val, y_train, y_val = train_test_split(X_train, y_train, test_size=0.2, random_state=42)"
   ]
  },
  {
   "cell_type": "code",
   "execution_count": 70,
   "metadata": {},
   "outputs": [],
   "source": [
    "vectorizer = TfidfVectorizer()\n",
    "X_train_tfidf = vectorizer.fit_transform(X_train)\n",
    "X_val_tfidf = vectorizer.transform(X_val)\n",
    "X_test_tfidf = vectorizer.transform(X_test)"
   ]
  },
  {
   "cell_type": "code",
   "execution_count": 93,
   "metadata": {},
   "outputs": [
    {
     "name": "stdout",
     "output_type": "stream",
     "text": [
      "Accuracy: 0.7456013073410548\n"
     ]
    }
   ],
   "source": [
    "model = svm.SVC(kernel='rbf')\n",
    "model.fit(X_train_tfidf, y_train)\n",
    "\n",
    "y_pred = model.predict(X_val_tfidf)\n",
    "accuracy = balanced_accuracy_score(y_true=y_val, y_pred=y_pred)\n",
    "print(f\"Accuracy: {accuracy}\")\n"
   ]
  },
  {
   "cell_type": "code",
   "execution_count": 96,
   "metadata": {},
   "outputs": [],
   "source": [
    "def objective(trial):\n",
    "    params = {\n",
    "        'kernel': trial.suggest_categorical('kernel', ['linear', 'poly', 'rbf']),\n",
    "        'C': trial.suggest_float('C', 0.001, 1000, log=True)\n",
    "    }\n",
    "    model = svm.SVC(**params)\n",
    "    model.fit(X_train_tfidf, y_train)\n",
    "    y_pred = model.predict(X_val_tfidf)\n",
    "    return balanced_accuracy_score(y_true=y_val, y_pred=y_pred)"
   ]
  },
  {
   "cell_type": "code",
   "execution_count": 97,
   "metadata": {},
   "outputs": [
    {
     "name": "stderr",
     "output_type": "stream",
     "text": [
      "[I 2025-02-16 15:28:09,692] A new study created in memory with name: no-name-18350a5f-b63c-495e-b75c-b0a276570d83\n",
      "[I 2025-02-16 15:28:22,432] Trial 0 finished with value: 0.7603545564872923 and parameters: {'kernel': 'rbf', 'C': 34.249519704949236}. Best is trial 0 with value: 0.7603545564872923.\n",
      "[I 2025-02-16 15:28:34,973] Trial 1 finished with value: 0.5155522790306216 and parameters: {'kernel': 'poly', 'C': 142.01689474529698}. Best is trial 0 with value: 0.7603545564872923.\n",
      "[I 2025-02-16 15:28:47,699] Trial 2 finished with value: 0.7611394858436502 and parameters: {'kernel': 'rbf', 'C': 3.818582911025586}. Best is trial 2 with value: 0.7611394858436502.\n",
      "[I 2025-02-16 15:29:00,375] Trial 3 finished with value: 0.7603545564872923 and parameters: {'kernel': 'rbf', 'C': 26.790949204465655}. Best is trial 2 with value: 0.7611394858436502.\n",
      "[I 2025-02-16 15:29:12,083] Trial 4 finished with value: 0.5918717016284805 and parameters: {'kernel': 'linear', 'C': 0.18686071558459752}. Best is trial 2 with value: 0.7611394858436502.\n",
      "[I 2025-02-16 15:29:24,546] Trial 5 finished with value: 0.1405673624721473 and parameters: {'kernel': 'rbf', 'C': 0.1495576792448073}. Best is trial 2 with value: 0.7611394858436502.\n",
      "[I 2025-02-16 15:29:36,731] Trial 6 finished with value: 0.07692307692307693 and parameters: {'kernel': 'poly', 'C': 0.0025970637411809674}. Best is trial 2 with value: 0.7611394858436502.\n",
      "[I 2025-02-16 15:29:49,308] Trial 7 finished with value: 0.7603545564872923 and parameters: {'kernel': 'rbf', 'C': 296.06327659317714}. Best is trial 2 with value: 0.7611394858436502.\n",
      "[I 2025-02-16 15:30:01,717] Trial 8 finished with value: 0.13992363166571312 and parameters: {'kernel': 'linear', 'C': 0.05076766753141177}. Best is trial 2 with value: 0.7611394858436502.\n",
      "[I 2025-02-16 15:30:14,215] Trial 9 finished with value: 0.7611394858436502 and parameters: {'kernel': 'rbf', 'C': 14.418768201245133}. Best is trial 2 with value: 0.7611394858436502.\n",
      "[I 2025-02-16 15:30:26,667] Trial 10 finished with value: 0.5155522790306216 and parameters: {'kernel': 'poly', 'C': 1.9139924317778867}. Best is trial 2 with value: 0.7611394858436502.\n",
      "[I 2025-02-16 15:30:39,213] Trial 11 finished with value: 0.7611394858436502 and parameters: {'kernel': 'rbf', 'C': 3.3087283874810782}. Best is trial 2 with value: 0.7611394858436502.\n",
      "[I 2025-02-16 15:30:51,673] Trial 12 finished with value: 0.7611394858436502 and parameters: {'kernel': 'rbf', 'C': 6.867522952606328}. Best is trial 2 with value: 0.7611394858436502.\n",
      "[I 2025-02-16 15:31:04,177] Trial 13 finished with value: 0.7603545564872923 and parameters: {'kernel': 'rbf', 'C': 14.943855628002968}. Best is trial 2 with value: 0.7611394858436502.\n",
      "[I 2025-02-16 15:31:16,772] Trial 14 finished with value: 0.7603545564872923 and parameters: {'kernel': 'rbf', 'C': 984.6357089643552}. Best is trial 2 with value: 0.7611394858436502.\n",
      "[I 2025-02-16 15:31:26,822] Trial 15 finished with value: 0.7458180493810812 and parameters: {'kernel': 'linear', 'C': 0.5096503670814868}. Best is trial 2 with value: 0.7611394858436502.\n",
      "[I 2025-02-16 15:31:39,292] Trial 16 finished with value: 0.7404829353016289 and parameters: {'kernel': 'rbf', 'C': 0.9300095375676483}. Best is trial 2 with value: 0.7611394858436502.\n",
      "[I 2025-02-16 15:31:51,769] Trial 17 finished with value: 0.07692307692307693 and parameters: {'kernel': 'rbf', 'C': 0.005170848347746712}. Best is trial 2 with value: 0.7611394858436502.\n",
      "[I 2025-02-16 15:32:04,171] Trial 18 finished with value: 0.5155522790306216 and parameters: {'kernel': 'poly', 'C': 71.30077747779234}. Best is trial 2 with value: 0.7611394858436502.\n",
      "[I 2025-02-16 15:32:16,632] Trial 19 finished with value: 0.07830907830907831 and parameters: {'kernel': 'linear', 'C': 0.020798311122457742}. Best is trial 2 with value: 0.7611394858436502.\n",
      "[I 2025-02-16 15:32:29,230] Trial 20 finished with value: 0.7611394858436502 and parameters: {'kernel': 'rbf', 'C': 10.014900343468856}. Best is trial 2 with value: 0.7611394858436502.\n",
      "[I 2025-02-16 15:32:41,705] Trial 21 finished with value: 0.7611394858436502 and parameters: {'kernel': 'rbf', 'C': 3.3860585318457743}. Best is trial 2 with value: 0.7611394858436502.\n",
      "[I 2025-02-16 15:32:54,169] Trial 22 finished with value: 0.7611394858436502 and parameters: {'kernel': 'rbf', 'C': 3.4850353942629586}. Best is trial 2 with value: 0.7611394858436502.\n",
      "[I 2025-02-16 15:33:06,306] Trial 23 finished with value: 0.5530816807855345 and parameters: {'kernel': 'rbf', 'C': 0.42890637219585304}. Best is trial 2 with value: 0.7611394858436502.\n",
      "[I 2025-02-16 15:33:18,987] Trial 24 finished with value: 0.7611394858436502 and parameters: {'kernel': 'rbf', 'C': 4.617829308307867}. Best is trial 2 with value: 0.7611394858436502.\n",
      "[I 2025-02-16 15:33:31,520] Trial 25 finished with value: 0.7611394858436502 and parameters: {'kernel': 'rbf', 'C': 1.5305433077781778}. Best is trial 2 with value: 0.7611394858436502.\n",
      "[I 2025-02-16 15:33:44,001] Trial 26 finished with value: 0.7603545564872923 and parameters: {'kernel': 'rbf', 'C': 86.00807480413611}. Best is trial 2 with value: 0.7611394858436502.\n",
      "[I 2025-02-16 15:33:56,546] Trial 27 finished with value: 0.7603545564872923 and parameters: {'kernel': 'rbf', 'C': 23.84386813318611}. Best is trial 2 with value: 0.7611394858436502.\n",
      "[I 2025-02-16 15:34:08,757] Trial 28 finished with value: 0.5155522790306216 and parameters: {'kernel': 'poly', 'C': 293.88815655049575}. Best is trial 2 with value: 0.7611394858436502.\n",
      "[I 2025-02-16 15:34:20,422] Trial 29 finished with value: 0.762725557875448 and parameters: {'kernel': 'linear', 'C': 11.887460765844331}. Best is trial 29 with value: 0.762725557875448.\n",
      "[I 2025-02-16 15:34:32,097] Trial 30 finished with value: 0.7619406285190902 and parameters: {'kernel': 'linear', 'C': 13.502927522133529}. Best is trial 29 with value: 0.762725557875448.\n",
      "[I 2025-02-16 15:34:43,772] Trial 31 finished with value: 0.7619406285190902 and parameters: {'kernel': 'linear', 'C': 52.104973215414944}. Best is trial 29 with value: 0.762725557875448.\n",
      "[I 2025-02-16 15:34:55,425] Trial 32 finished with value: 0.7619406285190902 and parameters: {'kernel': 'linear', 'C': 55.222675222264705}. Best is trial 29 with value: 0.762725557875448.\n",
      "[I 2025-02-16 15:35:07,087] Trial 33 finished with value: 0.7619406285190902 and parameters: {'kernel': 'linear', 'C': 61.69299036316789}. Best is trial 29 with value: 0.762725557875448.\n",
      "[I 2025-02-16 15:35:18,753] Trial 34 finished with value: 0.7619406285190902 and parameters: {'kernel': 'linear', 'C': 190.19140249304368}. Best is trial 29 with value: 0.762725557875448.\n",
      "[I 2025-02-16 15:35:30,490] Trial 35 finished with value: 0.7619406285190902 and parameters: {'kernel': 'linear', 'C': 37.25438392460817}. Best is trial 29 with value: 0.762725557875448.\n",
      "[I 2025-02-16 15:35:42,105] Trial 36 finished with value: 0.7619406285190902 and parameters: {'kernel': 'linear', 'C': 862.6855802122379}. Best is trial 29 with value: 0.762725557875448.\n",
      "[I 2025-02-16 15:35:54,026] Trial 37 finished with value: 0.7619406285190902 and parameters: {'kernel': 'linear', 'C': 34.38756878830448}. Best is trial 29 with value: 0.762725557875448.\n",
      "[I 2025-02-16 15:36:05,689] Trial 38 finished with value: 0.7619406285190902 and parameters: {'kernel': 'linear', 'C': 145.59200302608855}. Best is trial 29 with value: 0.762725557875448.\n",
      "[I 2025-02-16 15:36:17,348] Trial 39 finished with value: 0.7619406285190902 and parameters: {'kernel': 'linear', 'C': 22.339032722201683}. Best is trial 29 with value: 0.762725557875448.\n",
      "[I 2025-02-16 15:36:29,091] Trial 40 finished with value: 0.7619406285190902 and parameters: {'kernel': 'linear', 'C': 324.5296158035905}. Best is trial 29 with value: 0.762725557875448.\n",
      "[I 2025-02-16 15:36:40,807] Trial 41 finished with value: 0.7619406285190902 and parameters: {'kernel': 'linear', 'C': 70.9980608469999}. Best is trial 29 with value: 0.762725557875448.\n",
      "[I 2025-02-16 15:36:52,466] Trial 42 finished with value: 0.7619406285190902 and parameters: {'kernel': 'linear', 'C': 65.58988951300203}. Best is trial 29 with value: 0.762725557875448.\n",
      "[I 2025-02-16 15:37:04,149] Trial 43 finished with value: 0.762725557875448 and parameters: {'kernel': 'linear', 'C': 8.828288255417272}. Best is trial 29 with value: 0.762725557875448.\n",
      "[I 2025-02-16 15:37:15,765] Trial 44 finished with value: 0.762725557875448 and parameters: {'kernel': 'linear', 'C': 9.053108096868113}. Best is trial 29 with value: 0.762725557875448.\n",
      "[I 2025-02-16 15:37:27,407] Trial 45 finished with value: 0.762725557875448 and parameters: {'kernel': 'linear', 'C': 10.215368563187294}. Best is trial 29 with value: 0.762725557875448.\n",
      "[I 2025-02-16 15:37:39,055] Trial 46 finished with value: 0.762725557875448 and parameters: {'kernel': 'linear', 'C': 10.954712575215702}. Best is trial 29 with value: 0.762725557875448.\n",
      "[I 2025-02-16 15:37:50,757] Trial 47 finished with value: 0.762725557875448 and parameters: {'kernel': 'linear', 'C': 7.525781351356402}. Best is trial 29 with value: 0.762725557875448.\n",
      "[I 2025-02-16 15:38:01,962] Trial 48 finished with value: 0.7608010270268706 and parameters: {'kernel': 'linear', 'C': 0.8040439825369371}. Best is trial 29 with value: 0.762725557875448.\n",
      "[I 2025-02-16 15:38:13,574] Trial 49 finished with value: 0.7632836827315166 and parameters: {'kernel': 'linear', 'C': 1.9608788867796807}. Best is trial 49 with value: 0.7632836827315166.\n",
      "[I 2025-02-16 15:38:25,808] Trial 50 finished with value: 0.5155522790306216 and parameters: {'kernel': 'poly', 'C': 1.7147248355462714}. Best is trial 49 with value: 0.7632836827315166.\n",
      "[I 2025-02-16 15:38:37,430] Trial 51 finished with value: 0.762725557875448 and parameters: {'kernel': 'linear', 'C': 5.831033465287237}. Best is trial 49 with value: 0.7632836827315166.\n",
      "[I 2025-02-16 15:38:49,128] Trial 52 finished with value: 0.7619406285190902 and parameters: {'kernel': 'linear', 'C': 16.517123003848916}. Best is trial 49 with value: 0.7632836827315166.\n",
      "[I 2025-02-16 15:39:00,771] Trial 53 finished with value: 0.762725557875448 and parameters: {'kernel': 'linear', 'C': 8.916852729957872}. Best is trial 49 with value: 0.7632836827315166.\n",
      "[I 2025-02-16 15:39:12,449] Trial 54 finished with value: 0.7645264678088881 and parameters: {'kernel': 'linear', 'C': 2.3402852993395644}. Best is trial 54 with value: 0.7645264678088881.\n",
      "[I 2025-02-16 15:39:24,108] Trial 55 finished with value: 0.7645264678088881 and parameters: {'kernel': 'linear', 'C': 2.241766197687799}. Best is trial 54 with value: 0.7645264678088881.\n",
      "[I 2025-02-16 15:39:35,956] Trial 56 finished with value: 0.4747125069779839 and parameters: {'kernel': 'linear', 'C': 0.13865027774927455}. Best is trial 54 with value: 0.7645264678088881.\n",
      "[I 2025-02-16 15:39:46,294] Trial 57 finished with value: 0.7203553825491635 and parameters: {'kernel': 'linear', 'C': 0.392019191453541}. Best is trial 54 with value: 0.7645264678088881.\n",
      "[I 2025-02-16 15:39:58,776] Trial 58 finished with value: 0.5155522790306216 and parameters: {'kernel': 'poly', 'C': 2.1820934370787004}. Best is trial 54 with value: 0.7645264678088881.\n",
      "[I 2025-02-16 15:40:10,451] Trial 59 finished with value: 0.7689613307420147 and parameters: {'kernel': 'linear', 'C': 1.1219362347815824}. Best is trial 59 with value: 0.7689613307420147.\n",
      "[I 2025-02-16 15:40:21,979] Trial 60 finished with value: 0.5843797374695829 and parameters: {'kernel': 'linear', 'C': 0.1825348073065197}. Best is trial 59 with value: 0.7689613307420147.\n",
      "[I 2025-02-16 15:40:33,874] Trial 61 finished with value: 0.7645264678088881 and parameters: {'kernel': 'linear', 'C': 2.3458490312434446}. Best is trial 59 with value: 0.7689613307420147.\n",
      "[I 2025-02-16 15:40:44,843] Trial 62 finished with value: 0.7584997471361589 and parameters: {'kernel': 'linear', 'C': 0.7586500342128126}. Best is trial 59 with value: 0.7689613307420147.\n",
      "[I 2025-02-16 15:40:56,657] Trial 63 finished with value: 0.7645264678088881 and parameters: {'kernel': 'linear', 'C': 2.364917651557593}. Best is trial 59 with value: 0.7689613307420147.\n",
      "[I 2025-02-16 15:41:08,345] Trial 64 finished with value: 0.7636523419347623 and parameters: {'kernel': 'linear', 'C': 2.3376516750089866}. Best is trial 59 with value: 0.7689613307420147.\n",
      "[I 2025-02-16 15:41:20,012] Trial 65 finished with value: 0.763599683749574 and parameters: {'kernel': 'linear', 'C': 2.624797173258544}. Best is trial 59 with value: 0.7689613307420147.\n",
      "[I 2025-02-16 15:41:31,706] Trial 66 finished with value: 0.7688564162594156 and parameters: {'kernel': 'linear', 'C': 1.1728725957524984}. Best is trial 59 with value: 0.7689613307420147.\n",
      "[I 2025-02-16 15:41:44,580] Trial 67 finished with value: 0.5155522790306216 and parameters: {'kernel': 'poly', 'C': 1.2237718682698675}. Best is trial 59 with value: 0.7689613307420147.\n",
      "[I 2025-02-16 15:41:55,384] Trial 68 finished with value: 0.6960913987776791 and parameters: {'kernel': 'linear', 'C': 0.3314130781243107}. Best is trial 59 with value: 0.7689613307420147.\n",
      "[I 2025-02-16 15:42:07,066] Trial 69 finished with value: 0.762725557875448 and parameters: {'kernel': 'linear', 'C': 4.770026988279418}. Best is trial 59 with value: 0.7689613307420147.\n",
      "[I 2025-02-16 15:42:19,334] Trial 70 finished with value: 0.22102523865446358 and parameters: {'kernel': 'linear', 'C': 0.07534234483225288}. Best is trial 59 with value: 0.7689613307420147.\n",
      "[I 2025-02-16 15:42:29,531] Trial 71 finished with value: 0.7560065200547276 and parameters: {'kernel': 'linear', 'C': 0.6619236363257339}. Best is trial 59 with value: 0.7689613307420147.\n",
      "[I 2025-02-16 15:42:41,208] Trial 72 finished with value: 0.763599683749574 and parameters: {'kernel': 'linear', 'C': 2.507952497078453}. Best is trial 59 with value: 0.7689613307420147.\n",
      "[I 2025-02-16 15:42:52,754] Trial 73 finished with value: 0.7697305421335413 and parameters: {'kernel': 'linear', 'C': 1.168450207210231}. Best is trial 73 with value: 0.7697305421335413.\n",
      "[I 2025-02-16 15:43:04,298] Trial 74 finished with value: 0.7697305421335413 and parameters: {'kernel': 'linear', 'C': 1.1576407014845465}. Best is trial 73 with value: 0.7697305421335413.\n",
      "[I 2025-02-16 15:43:15,888] Trial 75 finished with value: 0.76800897310428 and parameters: {'kernel': 'linear', 'C': 1.239962346843255}. Best is trial 73 with value: 0.7697305421335413.\n",
      "[I 2025-02-16 15:43:27,413] Trial 76 finished with value: 0.7697613936349812 and parameters: {'kernel': 'linear', 'C': 1.1868131607415995}. Best is trial 76 with value: 0.7697613936349812.\n",
      "[I 2025-02-16 15:43:38,962] Trial 77 finished with value: 0.7697305421335413 and parameters: {'kernel': 'linear', 'C': 1.1611494463512668}. Best is trial 76 with value: 0.7697613936349812.\n",
      "[I 2025-02-16 15:43:50,086] Trial 78 finished with value: 0.6464284283580907 and parameters: {'kernel': 'linear', 'C': 0.23301934192340648}. Best is trial 76 with value: 0.7697613936349812.\n",
      "[I 2025-02-16 15:44:01,553] Trial 79 finished with value: 0.76796021813659 and parameters: {'kernel': 'linear', 'C': 1.0722126166746047}. Best is trial 76 with value: 0.7697613936349812.\n",
      "[I 2025-02-16 15:44:13,851] Trial 80 finished with value: 0.5155522790306216 and parameters: {'kernel': 'poly', 'C': 1.1489452489416079}. Best is trial 76 with value: 0.7697613936349812.\n",
      "[I 2025-02-16 15:44:23,765] Trial 81 finished with value: 0.7486571625860046 and parameters: {'kernel': 'linear', 'C': 0.5951607765181357}. Best is trial 76 with value: 0.7697613936349812.\n",
      "[I 2025-02-16 15:44:35,341] Trial 82 finished with value: 0.7697613936349812 and parameters: {'kernel': 'linear', 'C': 1.1898255025138071}. Best is trial 76 with value: 0.7697613936349812.\n",
      "[I 2025-02-16 15:44:46,961] Trial 83 finished with value: 0.768753964350791 and parameters: {'kernel': 'linear', 'C': 1.3714157394357414}. Best is trial 76 with value: 0.7697613936349812.\n",
      "[I 2025-02-16 15:44:57,512] Trial 84 finished with value: 0.6908572747887098 and parameters: {'kernel': 'linear', 'C': 0.3142805784260046}. Best is trial 76 with value: 0.7697613936349812.\n",
      "[I 2025-02-16 15:45:09,147] Trial 85 finished with value: 0.768712634522227 and parameters: {'kernel': 'linear', 'C': 1.3420531007485887}. Best is trial 76 with value: 0.7697613936349812.\n",
      "[I 2025-02-16 15:45:19,624] Trial 86 finished with value: 0.7458180493810812 and parameters: {'kernel': 'linear', 'C': 0.5050651294640237}. Best is trial 76 with value: 0.7697613936349812.\n",
      "[I 2025-02-16 15:45:31,721] Trial 87 finished with value: 0.762725557875448 and parameters: {'kernel': 'linear', 'C': 4.019958872167177}. Best is trial 76 with value: 0.7697613936349812.\n",
      "[I 2025-02-16 15:45:43,693] Trial 88 finished with value: 0.7678464372274584 and parameters: {'kernel': 'linear', 'C': 1.4483489432681727}. Best is trial 76 with value: 0.7697613936349812.\n",
      "[I 2025-02-16 15:45:55,036] Trial 89 finished with value: 0.7624358488335419 and parameters: {'kernel': 'linear', 'C': 0.8231519801596694}. Best is trial 76 with value: 0.7697613936349812.\n",
      "[I 2025-02-16 15:46:05,896] Trial 90 finished with value: 0.6778640786275058 and parameters: {'kernel': 'linear', 'C': 0.28484793783949003}. Best is trial 76 with value: 0.7697613936349812.\n",
      "[I 2025-02-16 15:46:17,602] Trial 91 finished with value: 0.7669196531681443 and parameters: {'kernel': 'linear', 'C': 1.4906156150531433}. Best is trial 76 with value: 0.7697613936349812.\n",
      "[I 2025-02-16 15:46:29,173] Trial 92 finished with value: 0.769933254272522 and parameters: {'kernel': 'linear', 'C': 1.012367818409419}. Best is trial 92 with value: 0.769933254272522.\n",
      "[I 2025-02-16 15:46:39,260] Trial 93 finished with value: 0.7491690388303098 and parameters: {'kernel': 'linear', 'C': 0.5415992328185779}. Best is trial 92 with value: 0.769933254272522.\n",
      "[I 2025-02-16 15:46:50,793] Trial 94 finished with value: 0.7717341642059622 and parameters: {'kernel': 'linear', 'C': 0.9806781702720403}. Best is trial 94 with value: 0.7717341642059622.\n",
      "[I 2025-02-16 15:47:02,079] Trial 95 finished with value: 0.7624358488335419 and parameters: {'kernel': 'linear', 'C': 0.8432049376539065}. Best is trial 94 with value: 0.7717341642059622.\n",
      "[I 2025-02-16 15:47:13,567] Trial 96 finished with value: 0.7679473329899812 and parameters: {'kernel': 'linear', 'C': 0.9540332735535488}. Best is trial 94 with value: 0.7717341642059622.\n",
      "[I 2025-02-16 15:47:23,836] Trial 97 finished with value: 0.7260363718635409 and parameters: {'kernel': 'linear', 'C': 0.4000686627074247}. Best is trial 94 with value: 0.7717341642059622.\n",
      "[I 2025-02-16 15:47:35,586] Trial 98 finished with value: 0.762725557875448 and parameters: {'kernel': 'linear', 'C': 3.2199446009563326}. Best is trial 94 with value: 0.7717341642059622.\n",
      "[I 2025-02-16 15:47:47,256] Trial 99 finished with value: 0.762725557875448 and parameters: {'kernel': 'linear', 'C': 5.279526397341982}. Best is trial 94 with value: 0.7717341642059622.\n"
     ]
    }
   ],
   "source": [
    "study = optuna.create_study(direction='maximize')\n",
    "study.optimize(objective, n_trials=100)"
   ]
  },
  {
   "cell_type": "code",
   "execution_count": 99,
   "metadata": {},
   "outputs": [
    {
     "data": {
      "text/plain": [
       "{'kernel': 'linear', 'C': 0.9806781702720403}"
      ]
     },
     "execution_count": 99,
     "metadata": {},
     "output_type": "execute_result"
    }
   ],
   "source": [
    "study.best_params"
   ]
  },
  {
   "cell_type": "code",
   "execution_count": 100,
   "metadata": {},
   "outputs": [
    {
     "name": "stdout",
     "output_type": "stream",
     "text": [
      "Accuracy: 0.7717341642059622\n"
     ]
    }
   ],
   "source": [
    "model = svm.SVC(**study.best_params)\n",
    "model.fit(X_train_tfidf, y_train)\n",
    "\n",
    "y_pred = model.predict(X_val_tfidf)\n",
    "accuracy = balanced_accuracy_score(y_pred=y_pred, y_true=y_val)\n",
    "print(f\"Accuracy: {accuracy}\")\n"
   ]
  },
  {
   "cell_type": "code",
   "execution_count": 102,
   "metadata": {},
   "outputs": [
    {
     "name": "stdout",
     "output_type": "stream",
     "text": [
      "Accuracy: 0.7788368679266922\n"
     ]
    }
   ],
   "source": [
    "y_pred = model.predict(X_test_tfidf)\n",
    "accuracy = balanced_accuracy_score(y_pred=y_pred, y_true=y_test)\n",
    "print(f\"Accuracy: {accuracy}\")"
   ]
  },
  {
   "cell_type": "code",
   "execution_count": 104,
   "metadata": {},
   "outputs": [],
   "source": [
    "import pickle\n",
    "\n",
    "with open('models/svm_model.pkl', 'wb') as model_file:\n",
    "    pickle.dump(model, model_file)\n",
    "\n",
    "with open('models/tfidf_vectorizer.pkl', 'wb') as vectorizer_file:\n",
    "    pickle.dump(vectorizer, vectorizer_file)"
   ]
  },
  {
   "cell_type": "code",
   "execution_count": 108,
   "metadata": {},
   "outputs": [
    {
     "data": {
      "text/html": [
       "<div>\n",
       "<style scoped>\n",
       "    .dataframe tbody tr th:only-of-type {\n",
       "        vertical-align: middle;\n",
       "    }\n",
       "\n",
       "    .dataframe tbody tr th {\n",
       "        vertical-align: top;\n",
       "    }\n",
       "\n",
       "    .dataframe thead th {\n",
       "        text-align: right;\n",
       "    }\n",
       "</style>\n",
       "<table border=\"1\" class=\"dataframe\">\n",
       "  <thead>\n",
       "    <tr style=\"text-align: right;\">\n",
       "      <th></th>\n",
       "      <th>text</th>\n",
       "    </tr>\n",
       "  </thead>\n",
       "  <tbody>\n",
       "    <tr>\n",
       "      <th>0</th>\n",
       "      <td>Наступила та самая неделя Nattokenoid Setokeno...</td>\n",
       "    </tr>\n",
       "    <tr>\n",
       "      <th>1</th>\n",
       "      <td>Тоня Сегодня я записываю свое первое видео на ...</td>\n",
       "    </tr>\n",
       "    <tr>\n",
       "      <th>2</th>\n",
       "      <td>Mtokenoid Games дисквалифицировали с мейджора ...</td>\n",
       "    </tr>\n",
       "    <tr>\n",
       "      <th>3</th>\n",
       "      <td>Скотт Джурек Почему я бегаю Команда tokentoken...</td>\n",
       "    </tr>\n",
       "    <tr>\n",
       "      <th>4</th>\n",
       "      <td>Пьер Гасли Гонка в Монреале будет особенно сло...</td>\n",
       "    </tr>\n",
       "    <tr>\n",
       "      <th>...</th>\n",
       "      <td>...</td>\n",
       "    </tr>\n",
       "    <tr>\n",
       "      <th>2495</th>\n",
       "      <td>КонкурсГРаНИ tokenoid Полторашка В этот раз те...</td>\n",
       "    </tr>\n",
       "    <tr>\n",
       "      <th>2496</th>\n",
       "      <td>когда понял что тебя кинули но пооучил поддерж...</td>\n",
       "    </tr>\n",
       "    <tr>\n",
       "      <th>2497</th>\n",
       "      <td>С ЛеБроном что то не так надеемся что ничего с...</td>\n",
       "    </tr>\n",
       "    <tr>\n",
       "      <th>2498</th>\n",
       "      <td>Хочешь принять участие в зимнем дрифте? Есть Ж...</td>\n",
       "    </tr>\n",
       "    <tr>\n",
       "      <th>2499</th>\n",
       "      <td>Сегодня прямой эфир на канале Yotokenoid Insta...</td>\n",
       "    </tr>\n",
       "  </tbody>\n",
       "</table>\n",
       "<p>2500 rows × 1 columns</p>\n",
       "</div>"
      ],
      "text/plain": [
       "                                                   text\n",
       "0     Наступила та самая неделя Nattokenoid Setokeno...\n",
       "1     Тоня Сегодня я записываю свое первое видео на ...\n",
       "2     Mtokenoid Games дисквалифицировали с мейджора ...\n",
       "3     Скотт Джурек Почему я бегаю Команда tokentoken...\n",
       "4     Пьер Гасли Гонка в Монреале будет особенно сло...\n",
       "...                                                 ...\n",
       "2495  КонкурсГРаНИ tokenoid Полторашка В этот раз те...\n",
       "2496  когда понял что тебя кинули но пооучил поддерж...\n",
       "2497  С ЛеБроном что то не так надеемся что ничего с...\n",
       "2498  Хочешь принять участие в зимнем дрифте? Есть Ж...\n",
       "2499  Сегодня прямой эфир на канале Yotokenoid Insta...\n",
       "\n",
       "[2500 rows x 1 columns]"
      ]
     },
     "execution_count": 108,
     "metadata": {},
     "output_type": "execute_result"
    }
   ],
   "source": [
    "df_test = pd.read_csv('data/test_row.csv')\n",
    "df_test"
   ]
  },
  {
   "cell_type": "code",
   "execution_count": 109,
   "metadata": {},
   "outputs": [],
   "source": [
    "df_test['normalized_text'] = df_test['text'].apply(lemmatize_text)"
   ]
  },
  {
   "cell_type": "code",
   "execution_count": 111,
   "metadata": {},
   "outputs": [],
   "source": [
    "X_submission = df_test['normalized_text']\n",
    "X_submission = vectorizer.transform(X_submission)"
   ]
  },
  {
   "cell_type": "code",
   "execution_count": 112,
   "metadata": {},
   "outputs": [],
   "source": [
    "y_submission = model.predict(X_submission)"
   ]
  },
  {
   "cell_type": "code",
   "execution_count": 114,
   "metadata": {},
   "outputs": [],
   "source": [
    "y_submission = label_enc.inverse_transform(y_submission)"
   ]
  },
  {
   "cell_type": "code",
   "execution_count": 117,
   "metadata": {},
   "outputs": [],
   "source": [
    "submission = pd.DataFrame({'category': y_submission})"
   ]
  },
  {
   "cell_type": "code",
   "execution_count": 119,
   "metadata": {},
   "outputs": [],
   "source": [
    "submission.to_csv('submissions/svm.csv', index=False)"
   ]
  },
  {
   "cell_type": "code",
   "execution_count": null,
   "metadata": {},
   "outputs": [],
   "source": []
  }
 ],
 "metadata": {
  "kernelspec": {
   "display_name": "base",
   "language": "python",
   "name": "python3"
  },
  "language_info": {
   "codemirror_mode": {
    "name": "ipython",
    "version": 3
   },
   "file_extension": ".py",
   "mimetype": "text/x-python",
   "name": "python",
   "nbconvert_exporter": "python",
   "pygments_lexer": "ipython3",
   "version": "3.10.9"
  }
 },
 "nbformat": 4,
 "nbformat_minor": 2
}
